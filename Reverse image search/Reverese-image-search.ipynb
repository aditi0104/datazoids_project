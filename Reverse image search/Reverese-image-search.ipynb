{
 "cells": [
  {
   "cell_type": "code",
   "execution_count": 10,
   "id": "7c9c295b",
   "metadata": {},
   "outputs": [],
   "source": [
    "import numpy as np\n",
    "from numpy.linalg import norm\n",
    "import tensorflow\n",
    "from tensorflow.keras.preprocessing import image\n",
    "from tensorflow.keras.layers import GlobalMaxPooling2D\n",
    "from tensorflow.keras.applications.resnet50 import ResNet50, preprocess_input\n",
    "import pickle\n",
    "import os\n",
    "from tqdm import tqdm"
   ]
  },
  {
   "cell_type": "code",
   "execution_count": 11,
   "id": "521874f1",
   "metadata": {},
   "outputs": [
    {
     "name": "stdout",
     "output_type": "stream",
     "text": [
      "Model: \"sequential_1\"\n",
      "_________________________________________________________________\n",
      "Layer (type)                 Output Shape              Param #   \n",
      "=================================================================\n",
      "resnet50 (Functional)        (None, 7, 7, 2048)        23587712  \n",
      "_________________________________________________________________\n",
      "global_max_pooling2d_1 (Glob (None, 2048)              0         \n",
      "=================================================================\n",
      "Total params: 23,587,712\n",
      "Trainable params: 0\n",
      "Non-trainable params: 23,587,712\n",
      "_________________________________________________________________\n",
      "None\n"
     ]
    }
   ],
   "source": [
    "# creating a ResNet model. ResNet-50 is a convolutional neural network that is 50 layers deep. \n",
    "# You can load a pretrained version of the network trained on more than a million images from the ImageNet database.\n",
    "# The network can classifiy objects into 1000 categories, The network output has an image input size of 224-by-224.\n",
    "model = ResNet50(weights='imagenet',include_top=False,input_shape=(224,224,3))\n",
    "model.trainable = False\n",
    "model = tensorflow.keras.Sequential([model, GlobalMaxPooling2D()])\n",
    "\n",
    "print(model.summary())"
   ]
  },
  {
   "cell_type": "code",
   "execution_count": 3,
   "id": "aae09beb",
   "metadata": {},
   "outputs": [],
   "source": [
    "# extrating the features of the given image using the resnet model.\n",
    "def extract_features(img_path,model):\n",
    "    img = image.load_img(img_path,target_size=(224,224))\n",
    "    img_array = image.img_to_array(img)\n",
    "    expanded_img_array = np.expand_dims(img_array, axis=0)\n",
    "    preprocessed_img = preprocess_input(expanded_img_array)\n",
    "    result = model.predict(preprocessed_img).flatten()\n",
    "    normalized_result = result / norm(result)\n",
    "\n",
    "    return normalized_result"
   ]
  },
  {
   "cell_type": "code",
   "execution_count": 4,
   "id": "b79d1f93",
   "metadata": {},
   "outputs": [],
   "source": [
    "data_images_path = \"Downloads/datazoids/images/\"\n",
    "filenames = []\n",
    "\n",
    "# under datazoids project folder we have image folder under which there are around 85 folders each containing different number of images\n",
    "# collecting all the image names present inside the images folder\n",
    "for files in os.listdir(data_images_path):\n",
    "    if os.path.isdir(data_images_path + files):\n",
    "        for file in os.listdir(data_images_path + files):\n",
    "            filenames.append(os.path.join(files, file))"
   ]
  },
  {
   "cell_type": "code",
   "execution_count": 7,
   "id": "54bb8964",
   "metadata": {},
   "outputs": [
    {
     "name": "stderr",
     "output_type": "stream",
     "text": [
      "  0%|                                                | 0/105100 [00:00<?, ?it/s]2022-07-21 19:22:47.616154: I tensorflow/compiler/mlir/mlir_graph_optimization_pass.cc:176] None of the MLIR Optimization Passes are enabled (registered 2)\n",
      "2022-07-21 19:22:47.619360: W tensorflow/core/platform/profile_utils/cpu_utils.cc:128] Failed to get CPU frequency: 0 Hz\n",
      "2022-07-21 19:22:47.773768: I tensorflow/core/grappler/optimizers/custom_graph_optimizer_registry.cc:112] Plugin optimizer for device_type GPU is enabled.\n",
      "100%|█████████████████████████████████| 105100/105100 [1:22:27<00:00, 21.24it/s]\n"
     ]
    }
   ],
   "source": [
    "feature_list = []\n",
    "# storing the extracted features for all the given images.\n",
    "for file in tqdm(filenames):\n",
    "    feature_list.append(extract_features(os.path.join(data_images_path, file),model))"
   ]
  },
  {
   "cell_type": "code",
   "execution_count": 9,
   "id": "fad746c8",
   "metadata": {},
   "outputs": [],
   "source": [
    "pickle.dump(feature_list, open('embeddings.pkl','wb'))\n",
    "pickle.dump(filenames, open('filenames.pkl','wb'))"
   ]
  },
  {
   "cell_type": "code",
   "execution_count": null,
   "id": "c3644bd6",
   "metadata": {},
   "outputs": [],
   "source": []
  },
  {
   "cell_type": "code",
   "execution_count": 6,
   "id": "8eac3843",
   "metadata": {},
   "outputs": [
    {
     "name": "stdout",
     "output_type": "stream",
     "text": [
      "105100 True\n"
     ]
    }
   ],
   "source": [
    "print(len(filenames), len(set(filenames)) == len(filenames))"
   ]
  },
  {
   "cell_type": "code",
   "execution_count": 8,
   "id": "a80f5f69",
   "metadata": {},
   "outputs": [
    {
     "data": {
      "text/plain": [
       "105100"
      ]
     },
     "execution_count": 8,
     "metadata": {},
     "output_type": "execute_result"
    }
   ],
   "source": [
    "len(feature_list)"
   ]
  },
  {
   "cell_type": "code",
   "execution_count": null,
   "id": "3b4fba8a",
   "metadata": {},
   "outputs": [],
   "source": []
  },
  {
   "cell_type": "code",
   "execution_count": null,
   "id": "152b37c0",
   "metadata": {},
   "outputs": [],
   "source": []
  }
 ],
 "metadata": {
  "kernelspec": {
   "display_name": "Python 3 (ipykernel)",
   "language": "python",
   "name": "python3"
  },
  "language_info": {
   "codemirror_mode": {
    "name": "ipython",
    "version": 3
   },
   "file_extension": ".py",
   "mimetype": "text/x-python",
   "name": "python",
   "nbconvert_exporter": "python",
   "pygments_lexer": "ipython3",
   "version": "3.9.10"
  }
 },
 "nbformat": 4,
 "nbformat_minor": 5
}
