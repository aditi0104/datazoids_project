{
 "cells": [
  {
   "cell_type": "code",
   "execution_count": 20,
   "id": "e7d303ad",
   "metadata": {},
   "outputs": [],
   "source": [
    "#!pip install --upgrade implicit\n",
    "import numpy as np\n",
    "import pandas as pd\n",
    "import pickle\n",
    "import os; os.environ['OPENBLAS_NUM_THREADS']='1'\n",
    "from implicit.als import AlternatingLeastSquares as ALS\n",
    "from implicit.evaluation import mean_average_precision_at_k\n",
    "from scipy.sparse import coo_matrix"
   ]
  },
  {
   "cell_type": "code",
   "execution_count": 2,
   "id": "744d0e8c",
   "metadata": {},
   "outputs": [],
   "source": [
    "# Loading Data frames\n",
    "base_path = '/Users/saipavan/Downloads/Datazoids/'\n",
    "#base_path = '/Users/bhadrashah/Downloads/'\n",
    "train_csv = f'{base_path}transactions_train.csv.zip'\n",
    "users_path = f'{base_path}customers.csv.zip'\n",
    "articles_path = f'{base_path}articles.csv.zip'\n",
    "df = pd.read_csv(train_csv, dtype={'article_id': str}, parse_dates=['t_dat'])\n",
    "users = pd.read_csv(users_path)\n",
    "articles = pd.read_csv(articles_path, dtype={'article_id': str})\n"
   ]
  },
  {
   "cell_type": "code",
   "execution_count": 3,
   "id": "af9a3b5b",
   "metadata": {},
   "outputs": [],
   "source": [
    "# autoincrementing ids starting from 0 to both users and items\n",
    "all_users = users['customer_id'].unique().tolist()\n",
    "all_items = articles['article_id'].unique().tolist()\n",
    "user_ids_dict = dict(list(enumerate(all_users)))\n",
    "item_ids_dict = dict(list(enumerate(all_items)))\n",
    "users_map = {user_uid: user_idx for user_idx, user_uid in user_ids_dict.items()}\n",
    "items_map = {item_uid: item_idx for item_idx, item_uid in item_ids_dict.items()}\n",
    "df['user_id'] = df['customer_id'].map(users_map)\n",
    "df['item_id'] = df['article_id'].map(items_map)\n",
    "\n",
    "del users, articles, user_ids_dict, item_ids_dict"
   ]
  },
  {
   "cell_type": "code",
   "execution_count": 4,
   "id": "b73c1b21",
   "metadata": {},
   "outputs": [
    {
     "data": {
      "text/plain": [
       "<1371980x105542 sparse matrix of type '<class 'numpy.float64'>'\n",
       "\twith 31788324 stored elements in COOrdinate format>"
      ]
     },
     "execution_count": 4,
     "metadata": {},
     "output_type": "execute_result"
    }
   ],
   "source": [
    "# creating a sparse matrix using coo_matrix function in users x item format.\n",
    "rows = df['user_id'].values\n",
    "columns = df['item_id'].values\n",
    "data = np.ones(df.shape[0])\n",
    "coo_train_matrix = coo_matrix((data, (rows, columns)), shape=(len(all_users), len(all_items)))\n",
    "coo_train_matrix"
   ]
  },
  {
   "cell_type": "code",
   "execution_count": 5,
   "id": "091fc42e",
   "metadata": {},
   "outputs": [
    {
     "name": "stderr",
     "output_type": "stream",
     "text": [
      "/Users/saipavan/miniforge3/envs/tensorflow/lib/python3.9/site-packages/implicit/utils.py:138: ParameterWarning: Method expects CSR input, and was passed coo_matrix instead. Converting to CSR took 1.3523099422454834 seconds\n",
      "  warnings.warn(\n"
     ]
    },
    {
     "data": {
      "application/vnd.jupyter.widget-view+json": {
       "model_id": "94f7a3443f574672ad1c4e376e013e87",
       "version_major": 2,
       "version_minor": 0
      },
      "text/plain": [
       "  0%|          | 0/2 [00:00<?, ?it/s]"
      ]
     },
     "metadata": {},
     "output_type": "display_data"
    }
   ],
   "source": [
    "# basic check for model and data compatability\n",
    "model = ALS(iterations=2,factors=10)\n",
    "model.fit(coo_train_matrix)"
   ]
  },
  {
   "cell_type": "code",
   "execution_count": 6,
   "id": "b16da4df",
   "metadata": {},
   "outputs": [],
   "source": [
    "# Functions \n",
    "def split_dataset(df, validation_days=7):\n",
    "    # Split a pandas dataframe into training and validation data, based on validation_days\n",
    "    data_split_time = df['t_dat'].max() - pd.Timedelta(validation_days)\n",
    "    train_df = df[df['t_dat'] < data_split_time]\n",
    "    val_df = df[df['t_dat'] >= data_split_time]\n",
    "    return train_df, val_df\n",
    "\n",
    "def user_item_coo_matrix(df):\n",
    "    # Turn a dataframe with transactions into a COO sparse matrix of items x users format\n",
    "    rows = df['user_id'].values\n",
    "    columns = df['item_id'].values\n",
    "    data = np.ones(df.shape[0])\n",
    "    coo_m = coo_matrix((data, (rows, columns)), shape=(len(all_users), len(all_items)))\n",
    "    return coo_m\n",
    "\n",
    "\n",
    "def csr_matrices(df, validation_days=7):\n",
    "   \n",
    "    train_df, val_df = split_dataset(df, validation_days=validation_days)\n",
    "    coo_train_matrix = user_item_coo_matrix(train_df)\n",
    "    coo_value = user_item_coo_matrix(val_df)\n",
    "\n",
    "    csr_train_matrix = coo_train_matrix.tocsr()\n",
    "    csr_value = coo_value.tocsr()\n",
    "    \n",
    "    return {'coo_train_matrix': coo_train_matrix, 'csr_train_matrix': csr_train_matrix, 'csr_value': csr_value}\n",
    "\n",
    "\n",
    "def validation(matrices_temp, iterations=20, factors=200, regularization=0.01):\n",
    "    csr_train_matrix=matrices_temp['csr_train_matrix']\n",
    "    csr_value =  matrices_temp['csr_value']\n",
    "    coo_train_matrix=matrices_temp['coo_train_matrix']\n",
    "    model = ALS(factors=factors,  regularization=regularization, random_state=42,iterations=iterations)\n",
    "    model.fit(coo_train_matrix)\n",
    "    map_12 = mean_average_precision_at_k(model, csr_train_matrix, csr_value, K=12, num_threads=4)\n",
    "    print(f\"Factors: {factors:>3}\")\n",
    "    print(f\"Iterations: {iterations:>2}\" )\n",
    "    print(f\"Regularization: {regularization:4.3f} \")\n",
    "    print(f\"MAP 12: {map12:6.9f}\")\n",
    "    return map_12\n",
    "\n",
    "\n"
   ]
  },
  {
   "cell_type": "code",
   "execution_count": 7,
   "id": "5a60e726",
   "metadata": {},
   "outputs": [],
   "source": [
    "new_df = df[df['t_dat'] > '2020-08-21']\n",
    "matrices =  csr_matrices(new_df)"
   ]
  },
  {
   "cell_type": "code",
   "execution_count": 8,
   "id": "06ced13c",
   "metadata": {
    "scrolled": true
   },
   "outputs": [
    {
     "name": "stderr",
     "output_type": "stream",
     "text": [
      "/Users/saipavan/miniforge3/envs/tensorflow/lib/python3.9/site-packages/implicit/utils.py:138: ParameterWarning: Method expects CSR input, and was passed coo_matrix instead. Converting to CSR took 0.03897285461425781 seconds\n",
      "  warnings.warn(\n"
     ]
    },
    {
     "name": "stdout",
     "output_type": "stream",
     "text": [
      "Factors:  40 - Iterations:  3 - Regularization: 0.010 ==> MAP@12: 0.00392\n",
      "Best MAP found. The new best parameters are: {'factors': 40, 'iterations': 3, 'regularization': 0.01}\n"
     ]
    },
    {
     "name": "stderr",
     "output_type": "stream",
     "text": [
      "/Users/saipavan/miniforge3/envs/tensorflow/lib/python3.9/site-packages/implicit/utils.py:138: ParameterWarning: Method expects CSR input, and was passed coo_matrix instead. Converting to CSR took 0.0560612678527832 seconds\n",
      "  warnings.warn(\n"
     ]
    },
    {
     "name": "stdout",
     "output_type": "stream",
     "text": [
      "Factors:  40 - Iterations: 12 - Regularization: 0.010 ==> MAP@12: 0.00533\n",
      "Best MAP found. The new best parameters are: {'factors': 40, 'iterations': 12, 'regularization': 0.01}\n"
     ]
    },
    {
     "name": "stderr",
     "output_type": "stream",
     "text": [
      "/Users/saipavan/miniforge3/envs/tensorflow/lib/python3.9/site-packages/implicit/utils.py:138: ParameterWarning: Method expects CSR input, and was passed coo_matrix instead. Converting to CSR took 0.054929256439208984 seconds\n",
      "  warnings.warn(\n"
     ]
    },
    {
     "name": "stdout",
     "output_type": "stream",
     "text": [
      "Factors:  40 - Iterations: 15 - Regularization: 0.010 ==> MAP@12: 0.00528\n"
     ]
    },
    {
     "name": "stderr",
     "output_type": "stream",
     "text": [
      "/Users/saipavan/miniforge3/envs/tensorflow/lib/python3.9/site-packages/implicit/utils.py:138: ParameterWarning: Method expects CSR input, and was passed coo_matrix instead. Converting to CSR took 0.05597686767578125 seconds\n",
      "  warnings.warn(\n"
     ]
    },
    {
     "name": "stdout",
     "output_type": "stream",
     "text": [
      "Factors:  40 - Iterations: 20 - Regularization: 0.010 ==> MAP@12: 0.00532\n"
     ]
    },
    {
     "name": "stderr",
     "output_type": "stream",
     "text": [
      "/Users/saipavan/miniforge3/envs/tensorflow/lib/python3.9/site-packages/implicit/utils.py:138: ParameterWarning: Method expects CSR input, and was passed coo_matrix instead. Converting to CSR took 0.06088709831237793 seconds\n",
      "  warnings.warn(\n"
     ]
    },
    {
     "name": "stdout",
     "output_type": "stream",
     "text": [
      "Factors:  50 - Iterations:  3 - Regularization: 0.010 ==> MAP@12: 0.00461\n"
     ]
    },
    {
     "name": "stderr",
     "output_type": "stream",
     "text": [
      "/Users/saipavan/miniforge3/envs/tensorflow/lib/python3.9/site-packages/implicit/utils.py:138: ParameterWarning: Method expects CSR input, and was passed coo_matrix instead. Converting to CSR took 0.06106090545654297 seconds\n",
      "  warnings.warn(\n"
     ]
    },
    {
     "name": "stdout",
     "output_type": "stream",
     "text": [
      "Factors:  50 - Iterations: 12 - Regularization: 0.010 ==> MAP@12: 0.00543\n",
      "Best MAP found. The new best parameters are: {'factors': 50, 'iterations': 12, 'regularization': 0.01}\n"
     ]
    },
    {
     "name": "stderr",
     "output_type": "stream",
     "text": [
      "/Users/saipavan/miniforge3/envs/tensorflow/lib/python3.9/site-packages/implicit/utils.py:138: ParameterWarning: Method expects CSR input, and was passed coo_matrix instead. Converting to CSR took 0.06338000297546387 seconds\n",
      "  warnings.warn(\n"
     ]
    },
    {
     "name": "stdout",
     "output_type": "stream",
     "text": [
      "Factors:  50 - Iterations: 15 - Regularization: 0.010 ==> MAP@12: 0.00534\n"
     ]
    },
    {
     "name": "stderr",
     "output_type": "stream",
     "text": [
      "/Users/saipavan/miniforge3/envs/tensorflow/lib/python3.9/site-packages/implicit/utils.py:138: ParameterWarning: Method expects CSR input, and was passed coo_matrix instead. Converting to CSR took 0.05970001220703125 seconds\n",
      "  warnings.warn(\n"
     ]
    },
    {
     "name": "stdout",
     "output_type": "stream",
     "text": [
      "Factors:  50 - Iterations: 20 - Regularization: 0.010 ==> MAP@12: 0.00528\n"
     ]
    },
    {
     "name": "stderr",
     "output_type": "stream",
     "text": [
      "/Users/saipavan/miniforge3/envs/tensorflow/lib/python3.9/site-packages/implicit/utils.py:138: ParameterWarning: Method expects CSR input, and was passed coo_matrix instead. Converting to CSR took 0.058522939682006836 seconds\n",
      "  warnings.warn(\n"
     ]
    },
    {
     "name": "stdout",
     "output_type": "stream",
     "text": [
      "Factors:  60 - Iterations:  3 - Regularization: 0.010 ==> MAP@12: 0.00455\n"
     ]
    },
    {
     "name": "stderr",
     "output_type": "stream",
     "text": [
      "/Users/saipavan/miniforge3/envs/tensorflow/lib/python3.9/site-packages/implicit/utils.py:138: ParameterWarning: Method expects CSR input, and was passed coo_matrix instead. Converting to CSR took 0.06321501731872559 seconds\n",
      "  warnings.warn(\n"
     ]
    },
    {
     "name": "stdout",
     "output_type": "stream",
     "text": [
      "Factors:  60 - Iterations: 12 - Regularization: 0.010 ==> MAP@12: 0.00575\n",
      "Best MAP found. The new best parameters are: {'factors': 60, 'iterations': 12, 'regularization': 0.01}\n"
     ]
    },
    {
     "name": "stderr",
     "output_type": "stream",
     "text": [
      "/Users/saipavan/miniforge3/envs/tensorflow/lib/python3.9/site-packages/implicit/utils.py:138: ParameterWarning: Method expects CSR input, and was passed coo_matrix instead. Converting to CSR took 0.05869889259338379 seconds\n",
      "  warnings.warn(\n"
     ]
    },
    {
     "name": "stdout",
     "output_type": "stream",
     "text": [
      "Factors:  60 - Iterations: 15 - Regularization: 0.010 ==> MAP@12: 0.00576\n",
      "Best MAP found. The new best parameters are: {'factors': 60, 'iterations': 15, 'regularization': 0.01}\n"
     ]
    },
    {
     "name": "stderr",
     "output_type": "stream",
     "text": [
      "/Users/saipavan/miniforge3/envs/tensorflow/lib/python3.9/site-packages/implicit/utils.py:138: ParameterWarning: Method expects CSR input, and was passed coo_matrix instead. Converting to CSR took 0.06651425361633301 seconds\n",
      "  warnings.warn(\n"
     ]
    },
    {
     "name": "stdout",
     "output_type": "stream",
     "text": [
      "Factors:  60 - Iterations: 20 - Regularization: 0.010 ==> MAP@12: 0.00578\n",
      "Best MAP found. The new best parameters are: {'factors': 60, 'iterations': 20, 'regularization': 0.01}\n"
     ]
    },
    {
     "name": "stderr",
     "output_type": "stream",
     "text": [
      "/Users/saipavan/miniforge3/envs/tensorflow/lib/python3.9/site-packages/implicit/utils.py:138: ParameterWarning: Method expects CSR input, and was passed coo_matrix instead. Converting to CSR took 0.06688785552978516 seconds\n",
      "  warnings.warn(\n"
     ]
    },
    {
     "name": "stdout",
     "output_type": "stream",
     "text": [
      "Factors: 100 - Iterations:  3 - Regularization: 0.010 ==> MAP@12: 0.00536\n"
     ]
    },
    {
     "name": "stderr",
     "output_type": "stream",
     "text": [
      "/Users/saipavan/miniforge3/envs/tensorflow/lib/python3.9/site-packages/implicit/utils.py:138: ParameterWarning: Method expects CSR input, and was passed coo_matrix instead. Converting to CSR took 0.05761885643005371 seconds\n",
      "  warnings.warn(\n"
     ]
    },
    {
     "name": "stdout",
     "output_type": "stream",
     "text": [
      "Factors: 100 - Iterations: 12 - Regularization: 0.010 ==> MAP@12: 0.00621\n",
      "Best MAP found. The new best parameters are: {'factors': 100, 'iterations': 12, 'regularization': 0.01}\n"
     ]
    },
    {
     "name": "stderr",
     "output_type": "stream",
     "text": [
      "/Users/saipavan/miniforge3/envs/tensorflow/lib/python3.9/site-packages/implicit/utils.py:138: ParameterWarning: Method expects CSR input, and was passed coo_matrix instead. Converting to CSR took 0.061820030212402344 seconds\n",
      "  warnings.warn(\n"
     ]
    },
    {
     "name": "stdout",
     "output_type": "stream",
     "text": [
      "Factors: 100 - Iterations: 15 - Regularization: 0.010 ==> MAP@12: 0.00621\n"
     ]
    },
    {
     "name": "stderr",
     "output_type": "stream",
     "text": [
      "/Users/saipavan/miniforge3/envs/tensorflow/lib/python3.9/site-packages/implicit/utils.py:138: ParameterWarning: Method expects CSR input, and was passed coo_matrix instead. Converting to CSR took 0.06439208984375 seconds\n",
      "  warnings.warn(\n"
     ]
    },
    {
     "name": "stdout",
     "output_type": "stream",
     "text": [
      "Factors: 100 - Iterations: 20 - Regularization: 0.010 ==> MAP@12: 0.00621\n",
      "Best MAP found. The new best parameters are: {'factors': 100, 'iterations': 20, 'regularization': 0.01}\n"
     ]
    },
    {
     "name": "stderr",
     "output_type": "stream",
     "text": [
      "/Users/saipavan/miniforge3/envs/tensorflow/lib/python3.9/site-packages/implicit/utils.py:138: ParameterWarning: Method expects CSR input, and was passed coo_matrix instead. Converting to CSR took 0.07647418975830078 seconds\n",
      "  warnings.warn(\n"
     ]
    },
    {
     "name": "stdout",
     "output_type": "stream",
     "text": [
      "Factors: 200 - Iterations:  3 - Regularization: 0.010 ==> MAP@12: 0.00653\n",
      "Best MAP found. The new best parameters are: {'factors': 200, 'iterations': 3, 'regularization': 0.01}\n"
     ]
    },
    {
     "name": "stderr",
     "output_type": "stream",
     "text": [
      "/Users/saipavan/miniforge3/envs/tensorflow/lib/python3.9/site-packages/implicit/utils.py:138: ParameterWarning: Method expects CSR input, and was passed coo_matrix instead. Converting to CSR took 0.07111501693725586 seconds\n",
      "  warnings.warn(\n"
     ]
    },
    {
     "name": "stdout",
     "output_type": "stream",
     "text": [
      "Factors: 200 - Iterations: 12 - Regularization: 0.010 ==> MAP@12: 0.00649\n"
     ]
    },
    {
     "name": "stderr",
     "output_type": "stream",
     "text": [
      "/Users/saipavan/miniforge3/envs/tensorflow/lib/python3.9/site-packages/implicit/utils.py:138: ParameterWarning: Method expects CSR input, and was passed coo_matrix instead. Converting to CSR took 0.07440590858459473 seconds\n",
      "  warnings.warn(\n"
     ]
    },
    {
     "name": "stdout",
     "output_type": "stream",
     "text": [
      "Factors: 200 - Iterations: 15 - Regularization: 0.010 ==> MAP@12: 0.00641\n"
     ]
    },
    {
     "name": "stderr",
     "output_type": "stream",
     "text": [
      "/Users/saipavan/miniforge3/envs/tensorflow/lib/python3.9/site-packages/implicit/utils.py:138: ParameterWarning: Method expects CSR input, and was passed coo_matrix instead. Converting to CSR took 0.07696413993835449 seconds\n",
      "  warnings.warn(\n"
     ]
    },
    {
     "name": "stdout",
     "output_type": "stream",
     "text": [
      "Factors: 200 - Iterations: 20 - Regularization: 0.010 ==> MAP@12: 0.00639\n"
     ]
    },
    {
     "name": "stderr",
     "output_type": "stream",
     "text": [
      "/Users/saipavan/miniforge3/envs/tensorflow/lib/python3.9/site-packages/implicit/utils.py:138: ParameterWarning: Method expects CSR input, and was passed coo_matrix instead. Converting to CSR took 0.06688690185546875 seconds\n",
      "  warnings.warn(\n"
     ]
    },
    {
     "name": "stdout",
     "output_type": "stream",
     "text": [
      "Factors: 500 - Iterations:  3 - Regularization: 0.010 ==> MAP@12: 0.00698\n",
      "Best MAP found. The new best parameters are: {'factors': 500, 'iterations': 3, 'regularization': 0.01}\n"
     ]
    },
    {
     "name": "stderr",
     "output_type": "stream",
     "text": [
      "/Users/saipavan/miniforge3/envs/tensorflow/lib/python3.9/site-packages/implicit/utils.py:138: ParameterWarning: Method expects CSR input, and was passed coo_matrix instead. Converting to CSR took 0.0670630931854248 seconds\n",
      "  warnings.warn(\n"
     ]
    },
    {
     "name": "stdout",
     "output_type": "stream",
     "text": [
      "Factors: 500 - Iterations: 12 - Regularization: 0.010 ==> MAP@12: 0.00609\n"
     ]
    },
    {
     "name": "stderr",
     "output_type": "stream",
     "text": [
      "/Users/saipavan/miniforge3/envs/tensorflow/lib/python3.9/site-packages/implicit/utils.py:138: ParameterWarning: Method expects CSR input, and was passed coo_matrix instead. Converting to CSR took 0.06953096389770508 seconds\n",
      "  warnings.warn(\n"
     ]
    },
    {
     "name": "stdout",
     "output_type": "stream",
     "text": [
      "Factors: 500 - Iterations: 15 - Regularization: 0.010 ==> MAP@12: 0.00590\n"
     ]
    },
    {
     "name": "stderr",
     "output_type": "stream",
     "text": [
      "/Users/saipavan/miniforge3/envs/tensorflow/lib/python3.9/site-packages/implicit/utils.py:138: ParameterWarning: Method expects CSR input, and was passed coo_matrix instead. Converting to CSR took 0.08318114280700684 seconds\n",
      "  warnings.warn(\n"
     ]
    },
    {
     "name": "stdout",
     "output_type": "stream",
     "text": [
      "Factors: 500 - Iterations: 20 - Regularization: 0.010 ==> MAP@12: 0.00583\n",
      "CPU times: user 4h 57min 50s, sys: 45min 32s, total: 5h 43min 23s\n",
      "Wall time: 47min 57s\n"
     ]
    }
   ],
   "source": [
    "%%time\n",
    "# alternating the parameters to get the best model parameters\n",
    "best_map = 0\n",
    "for factors in [40, 50, 60, 100, 200, 500]:\n",
    "    for iterations in [3, 12, 15, 20]:\n",
    "        map12 = validation(matrices, factors, iterations, 0.01, show_progress=False)\n",
    "        if map12 > best_map:\n",
    "            best_map = map12\n",
    "            best_params = {'factors': factors, 'iterations': iterations, 'regularization': 0.01}\n",
    "            print(f\"Best MAP found. The new best parameters are: {best_params}\")"
   ]
  },
  {
   "cell_type": "code",
   "execution_count": 9,
   "id": "7b56a177",
   "metadata": {},
   "outputs": [
    {
     "name": "stderr",
     "output_type": "stream",
     "text": [
      "/Users/saipavan/miniforge3/envs/tensorflow/lib/python3.9/site-packages/implicit/utils.py:138: ParameterWarning: Method expects CSR input, and was passed coo_matrix instead. Converting to CSR took 0.09432315826416016 seconds\n",
      "  warnings.warn(\n"
     ]
    },
    {
     "data": {
      "application/vnd.jupyter.widget-view+json": {
       "model_id": "f50170d6d06344929931f8643489cbdb",
       "version_major": 2,
       "version_minor": 0
      },
      "text/plain": [
       "  0%|          | 0/3 [00:00<?, ?it/s]"
      ]
     },
     "metadata": {},
     "output_type": "display_data"
    },
    {
     "data": {
      "application/vnd.jupyter.widget-view+json": {
       "model_id": "494b7e4ef7bd458cbb70573653f1ff89",
       "version_major": 2,
       "version_minor": 0
      },
      "text/plain": [
       "  0%|          | 0/10528 [00:00<?, ?it/s]"
      ]
     },
     "metadata": {},
     "output_type": "display_data"
    },
    {
     "name": "stdout",
     "output_type": "stream",
     "text": [
      "Factors: 200 - Iterations:  3 - Regularization: 0.010 ==> MAP@12: 0.00653\n",
      "0.006525713737900545\n"
     ]
    }
   ],
   "source": [
    "map12 = validation(matrices, factors=200, iterations=3, regularization=0.01, show_progress=True)\n",
    "print(map12)"
   ]
  },
  {
   "cell_type": "code",
   "execution_count": 10,
   "id": "8411131f",
   "metadata": {},
   "outputs": [],
   "source": [
    "del matrices"
   ]
  },
  {
   "cell_type": "code",
   "execution_count": 11,
   "id": "efbaf28d",
   "metadata": {},
   "outputs": [],
   "source": [
    "# Training over the full dataset\n",
    "coo_train_matrix = user_item_coo_matrix(df)\n",
    "csr_train_matrix = coo_train_matrix.tocsr()"
   ]
  },
  {
   "cell_type": "code",
   "execution_count": 12,
   "id": "8f028b28",
   "metadata": {},
   "outputs": [],
   "source": [
    "best_params = {\"factors\":200, \"iterations\":15, \"regularization\":0.01, \"show_progress\":True}"
   ]
  },
  {
   "cell_type": "code",
   "execution_count": 14,
   "id": "99f2a4cd",
   "metadata": {},
   "outputs": [],
   "source": [
    "model = ALS(factors=200, regularization=0.01,iterations=15, random_state=50)\n",
    "model.fit(coo_train_matrix, show_progress=True)\n",
    "def output(model, csr_train_matrix, file_name):\n",
    "    predicted_value = []\n",
    "    batch_size = 2000\n",
    "    users_indices = np.arange(len(all_users))\n",
    "    for start_idx in range(0, len(users_indices), batch_size):\n",
    "        batch = users_indices[start_idx : start_idx + batch_size]\n",
    "        ids, scores = model.recommend(batch, csr_train_matrix[batch], N=6, filter_already_liked_items=False)\n",
    "        for i, userid in enumerate(batch):\n",
    "            customer_id = all_users[userid]\n",
    "            user_items = ids[i]\n",
    "            article_ids = [all_items[item_id] for item_id in user_items]\n",
    "            preddicted_value.append((customer_id, ' '.join(article_ids)))\n",
    "\n",
    "    data_predicted = pd.DataFrame(predicted_value, columns=['customer_id', 'prediction'])\n",
    "    data_predicted.to_csv(file_name, index=False)\n",
    "    \n",
    "    display(data_predicted.head())\n",
    "    print(data_predicted.shape)\n",
    "    \n",
    "    return data_predicted\n",
    "\n"
   ]
  },
  {
   "cell_type": "code",
   "execution_count": 15,
   "id": "a004b321",
   "metadata": {},
   "outputs": [
    {
     "data": {
      "text/html": [
       "<div>\n",
       "<style scoped>\n",
       "    .dataframe tbody tr th:only-of-type {\n",
       "        vertical-align: middle;\n",
       "    }\n",
       "\n",
       "    .dataframe tbody tr th {\n",
       "        vertical-align: top;\n",
       "    }\n",
       "\n",
       "    .dataframe thead th {\n",
       "        text-align: right;\n",
       "    }\n",
       "</style>\n",
       "<table border=\"1\" class=\"dataframe\">\n",
       "  <thead>\n",
       "    <tr style=\"text-align: right;\">\n",
       "      <th></th>\n",
       "      <th>customer_id</th>\n",
       "      <th>prediction</th>\n",
       "    </tr>\n",
       "  </thead>\n",
       "  <tbody>\n",
       "    <tr>\n",
       "      <th>0</th>\n",
       "      <td>00000dbacae5abe5e23885899a1fa44253a17956c6d1c3...</td>\n",
       "      <td>0568601006 0795440001 0795440003 0568597006 06...</td>\n",
       "    </tr>\n",
       "    <tr>\n",
       "      <th>1</th>\n",
       "      <td>0000423b00ade91418cceaf3b26c6af3dd342b51fd051e...</td>\n",
       "      <td>0351484002 0759871002 0599580055 0673677002 07...</td>\n",
       "    </tr>\n",
       "    <tr>\n",
       "      <th>2</th>\n",
       "      <td>000058a12d5b43e67d225668fa1f8d618c13dc232df0ca...</td>\n",
       "      <td>0351484002 0723529001 0609719001 0458543001 08...</td>\n",
       "    </tr>\n",
       "    <tr>\n",
       "      <th>3</th>\n",
       "      <td>00005ca1c9ed5f5146b52ac8639a40ca9d57aeff4d1bd2...</td>\n",
       "      <td>0730683001 0564786001 0678687001 0708021001 07...</td>\n",
       "    </tr>\n",
       "    <tr>\n",
       "      <th>4</th>\n",
       "      <td>00006413d8573cd20ed7128e53b7b13819fe5cfc2d801f...</td>\n",
       "      <td>0590928013 0712924003 0698286003 0692721005 07...</td>\n",
       "    </tr>\n",
       "  </tbody>\n",
       "</table>\n",
       "</div>"
      ],
      "text/plain": [
       "                                         customer_id  \\\n",
       "0  00000dbacae5abe5e23885899a1fa44253a17956c6d1c3...   \n",
       "1  0000423b00ade91418cceaf3b26c6af3dd342b51fd051e...   \n",
       "2  000058a12d5b43e67d225668fa1f8d618c13dc232df0ca...   \n",
       "3  00005ca1c9ed5f5146b52ac8639a40ca9d57aeff4d1bd2...   \n",
       "4  00006413d8573cd20ed7128e53b7b13819fe5cfc2d801f...   \n",
       "\n",
       "                                          prediction  \n",
       "0  0568601006 0795440001 0795440003 0568597006 06...  \n",
       "1  0351484002 0759871002 0599580055 0673677002 07...  \n",
       "2  0351484002 0723529001 0609719001 0458543001 08...  \n",
       "3  0730683001 0564786001 0678687001 0708021001 07...  \n",
       "4  0590928013 0712924003 0698286003 0692721005 07...  "
      ]
     },
     "metadata": {},
     "output_type": "display_data"
    },
    {
     "name": "stdout",
     "output_type": "stream",
     "text": [
      "(1371980, 2)\n",
      "CPU times: user 1h 4min 46s, sys: 1min 19s, total: 1h 6min 5s\n",
      "Wall time: 8min 31s\n"
     ]
    }
   ],
   "source": [
    "data_pred = submit(model, csr_train, \"submissions-Implicit-ALS.csv\");"
   ]
  },
  {
   "cell_type": "code",
   "execution_count": 16,
   "id": "2779efdb",
   "metadata": {},
   "outputs": [
    {
     "data": {
      "text/html": [
       "<div>\n",
       "<style scoped>\n",
       "    .dataframe tbody tr th:only-of-type {\n",
       "        vertical-align: middle;\n",
       "    }\n",
       "\n",
       "    .dataframe tbody tr th {\n",
       "        vertical-align: top;\n",
       "    }\n",
       "\n",
       "    .dataframe thead th {\n",
       "        text-align: right;\n",
       "    }\n",
       "</style>\n",
       "<table border=\"1\" class=\"dataframe\">\n",
       "  <thead>\n",
       "    <tr style=\"text-align: right;\">\n",
       "      <th></th>\n",
       "      <th>customer_id</th>\n",
       "      <th>article_id</th>\n",
       "    </tr>\n",
       "  </thead>\n",
       "  <tbody>\n",
       "    <tr>\n",
       "      <th>0</th>\n",
       "      <td>000058a12d5b43e67d225668fa1f8d618c13dc232df0ca...</td>\n",
       "      <td>0663713001</td>\n",
       "    </tr>\n",
       "    <tr>\n",
       "      <th>1</th>\n",
       "      <td>000058a12d5b43e67d225668fa1f8d618c13dc232df0ca...</td>\n",
       "      <td>0541518023</td>\n",
       "    </tr>\n",
       "    <tr>\n",
       "      <th>2</th>\n",
       "      <td>00007d2de826758b65a93dd24ce629ed66842531df6699...</td>\n",
       "      <td>0505221004</td>\n",
       "    </tr>\n",
       "    <tr>\n",
       "      <th>3</th>\n",
       "      <td>00007d2de826758b65a93dd24ce629ed66842531df6699...</td>\n",
       "      <td>0685687003</td>\n",
       "    </tr>\n",
       "    <tr>\n",
       "      <th>4</th>\n",
       "      <td>00007d2de826758b65a93dd24ce629ed66842531df6699...</td>\n",
       "      <td>0685687004</td>\n",
       "    </tr>\n",
       "    <tr>\n",
       "      <th>...</th>\n",
       "      <td>...</td>\n",
       "      <td>...</td>\n",
       "    </tr>\n",
       "    <tr>\n",
       "      <th>31788319</th>\n",
       "      <td>fff2282977442e327b45d8c89afde25617d00124d0f999...</td>\n",
       "      <td>0929511001</td>\n",
       "    </tr>\n",
       "    <tr>\n",
       "      <th>31788320</th>\n",
       "      <td>fff2282977442e327b45d8c89afde25617d00124d0f999...</td>\n",
       "      <td>0891322004</td>\n",
       "    </tr>\n",
       "    <tr>\n",
       "      <th>31788321</th>\n",
       "      <td>fff380805474b287b05cb2a7507b9a013482f7dd0bce0e...</td>\n",
       "      <td>0918325001</td>\n",
       "    </tr>\n",
       "    <tr>\n",
       "      <th>31788322</th>\n",
       "      <td>fff4d3a8b1f3b60af93e78c30a7cb4cf75edaf2590d3e5...</td>\n",
       "      <td>0833459002</td>\n",
       "    </tr>\n",
       "    <tr>\n",
       "      <th>31788323</th>\n",
       "      <td>fffef3b6b73545df065b521e19f64bf6fe93bfd450ab20...</td>\n",
       "      <td>0898573003</td>\n",
       "    </tr>\n",
       "  </tbody>\n",
       "</table>\n",
       "<p>31788324 rows × 2 columns</p>\n",
       "</div>"
      ],
      "text/plain": [
       "                                                customer_id  article_id\n",
       "0         000058a12d5b43e67d225668fa1f8d618c13dc232df0ca...  0663713001\n",
       "1         000058a12d5b43e67d225668fa1f8d618c13dc232df0ca...  0541518023\n",
       "2         00007d2de826758b65a93dd24ce629ed66842531df6699...  0505221004\n",
       "3         00007d2de826758b65a93dd24ce629ed66842531df6699...  0685687003\n",
       "4         00007d2de826758b65a93dd24ce629ed66842531df6699...  0685687004\n",
       "...                                                     ...         ...\n",
       "31788319  fff2282977442e327b45d8c89afde25617d00124d0f999...  0929511001\n",
       "31788320  fff2282977442e327b45d8c89afde25617d00124d0f999...  0891322004\n",
       "31788321  fff380805474b287b05cb2a7507b9a013482f7dd0bce0e...  0918325001\n",
       "31788322  fff4d3a8b1f3b60af93e78c30a7cb4cf75edaf2590d3e5...  0833459002\n",
       "31788323  fffef3b6b73545df065b521e19f64bf6fe93bfd450ab20...  0898573003\n",
       "\n",
       "[31788324 rows x 2 columns]"
      ]
     },
     "execution_count": 16,
     "metadata": {},
     "output_type": "execute_result"
    }
   ],
   "source": [
    "new_df = df.drop(['t_dat', 'sales_channel_id', 'price', 'user_id', 'item_id'],  axis=1)\n",
    "new_df"
   ]
  },
  {
   "cell_type": "code",
   "execution_count": 17,
   "id": "a3d37554",
   "metadata": {},
   "outputs": [
    {
     "data": {
      "text/html": [
       "<div>\n",
       "<style scoped>\n",
       "    .dataframe tbody tr th:only-of-type {\n",
       "        vertical-align: middle;\n",
       "    }\n",
       "\n",
       "    .dataframe tbody tr th {\n",
       "        vertical-align: top;\n",
       "    }\n",
       "\n",
       "    .dataframe thead th {\n",
       "        text-align: right;\n",
       "    }\n",
       "</style>\n",
       "<table border=\"1\" class=\"dataframe\">\n",
       "  <thead>\n",
       "    <tr style=\"text-align: right;\">\n",
       "      <th></th>\n",
       "      <th>customer_id</th>\n",
       "      <th>article_id</th>\n",
       "    </tr>\n",
       "  </thead>\n",
       "  <tbody>\n",
       "    <tr>\n",
       "      <th>0</th>\n",
       "      <td>00000dbacae5abe5e23885899a1fa44253a17956c6d1c3...</td>\n",
       "      <td>[0625548001, 0176209023, 0627759010, 069713800...</td>\n",
       "    </tr>\n",
       "    <tr>\n",
       "      <th>1</th>\n",
       "      <td>0000423b00ade91418cceaf3b26c6af3dd342b51fd051e...</td>\n",
       "      <td>[0583558001, 0639677008, 0640244003, 052126900...</td>\n",
       "    </tr>\n",
       "    <tr>\n",
       "      <th>2</th>\n",
       "      <td>000058a12d5b43e67d225668fa1f8d618c13dc232df0ca...</td>\n",
       "      <td>[0663713001, 0541518023, 0663713001, 057802000...</td>\n",
       "    </tr>\n",
       "    <tr>\n",
       "      <th>3</th>\n",
       "      <td>00005ca1c9ed5f5146b52ac8639a40ca9d57aeff4d1bd2...</td>\n",
       "      <td>[0742079001, 0732413001]</td>\n",
       "    </tr>\n",
       "    <tr>\n",
       "      <th>4</th>\n",
       "      <td>00006413d8573cd20ed7128e53b7b13819fe5cfc2d801f...</td>\n",
       "      <td>[0634249005, 0677049001, 0698286003, 070770400...</td>\n",
       "    </tr>\n",
       "    <tr>\n",
       "      <th>...</th>\n",
       "      <td>...</td>\n",
       "      <td>...</td>\n",
       "    </tr>\n",
       "    <tr>\n",
       "      <th>1362276</th>\n",
       "      <td>ffffbbf78b6eaac697a8a5dfbfd2bfa8113ee5b403e474...</td>\n",
       "      <td>[0698276003, 0699075005, 0694182002, 072243600...</td>\n",
       "    </tr>\n",
       "    <tr>\n",
       "      <th>1362277</th>\n",
       "      <td>ffffcd5046a6143d29a04fb8c424ce494a76e5cdf4fab5...</td>\n",
       "      <td>[0671695001, 0562245015, 0562245018, 056224500...</td>\n",
       "    </tr>\n",
       "    <tr>\n",
       "      <th>1362278</th>\n",
       "      <td>ffffcf35913a0bee60e8741cb2b4e78b8a98ee5ff2e6a1...</td>\n",
       "      <td>[0568597019, 0484398001, 0484398001, 070108300...</td>\n",
       "    </tr>\n",
       "    <tr>\n",
       "      <th>1362279</th>\n",
       "      <td>ffffd7744cebcf3aca44ae7049d2a94b87074c3d4ffe38...</td>\n",
       "      <td>[0821395003, 0806241002, 0714790020, 086675500...</td>\n",
       "    </tr>\n",
       "    <tr>\n",
       "      <th>1362280</th>\n",
       "      <td>ffffd9ac14e89946416d80e791d064701994755c3ab686...</td>\n",
       "      <td>[0806050001]</td>\n",
       "    </tr>\n",
       "  </tbody>\n",
       "</table>\n",
       "<p>1362281 rows × 2 columns</p>\n",
       "</div>"
      ],
      "text/plain": [
       "                                               customer_id  \\\n",
       "0        00000dbacae5abe5e23885899a1fa44253a17956c6d1c3...   \n",
       "1        0000423b00ade91418cceaf3b26c6af3dd342b51fd051e...   \n",
       "2        000058a12d5b43e67d225668fa1f8d618c13dc232df0ca...   \n",
       "3        00005ca1c9ed5f5146b52ac8639a40ca9d57aeff4d1bd2...   \n",
       "4        00006413d8573cd20ed7128e53b7b13819fe5cfc2d801f...   \n",
       "...                                                    ...   \n",
       "1362276  ffffbbf78b6eaac697a8a5dfbfd2bfa8113ee5b403e474...   \n",
       "1362277  ffffcd5046a6143d29a04fb8c424ce494a76e5cdf4fab5...   \n",
       "1362278  ffffcf35913a0bee60e8741cb2b4e78b8a98ee5ff2e6a1...   \n",
       "1362279  ffffd7744cebcf3aca44ae7049d2a94b87074c3d4ffe38...   \n",
       "1362280  ffffd9ac14e89946416d80e791d064701994755c3ab686...   \n",
       "\n",
       "                                                article_id  \n",
       "0        [0625548001, 0176209023, 0627759010, 069713800...  \n",
       "1        [0583558001, 0639677008, 0640244003, 052126900...  \n",
       "2        [0663713001, 0541518023, 0663713001, 057802000...  \n",
       "3                                 [0742079001, 0732413001]  \n",
       "4        [0634249005, 0677049001, 0698286003, 070770400...  \n",
       "...                                                    ...  \n",
       "1362276  [0698276003, 0699075005, 0694182002, 072243600...  \n",
       "1362277  [0671695001, 0562245015, 0562245018, 056224500...  \n",
       "1362278  [0568597019, 0484398001, 0484398001, 070108300...  \n",
       "1362279  [0821395003, 0806241002, 0714790020, 086675500...  \n",
       "1362280                                       [0806050001]  \n",
       "\n",
       "[1362281 rows x 2 columns]"
      ]
     },
     "execution_count": 17,
     "metadata": {},
     "output_type": "execute_result"
    }
   ],
   "source": [
    "new_df = new_df.groupby('customer_id')['article_id'].apply(list).reset_index(name=\"article_id\")\n",
    "new_df"
   ]
  },
  {
   "cell_type": "code",
   "execution_count": 21,
   "id": "96d959b3",
   "metadata": {},
   "outputs": [],
   "source": [
    "# This data will be used in app.py (streamlit app) to know the customers list and the items that they have bought.\n",
    "pickle.dump(new_df, open('customer_transactions_embeddings.pkl','wb'))\n"
   ]
  },
  {
   "cell_type": "code",
   "execution_count": 23,
   "id": "5b6fb864",
   "metadata": {},
   "outputs": [
    {
     "data": {
      "text/plain": [
       "'1f8655f56e47c76038be8699291a7fe8a3aefb4e475ac7a30c6f5c45c0ef196a'"
      ]
     },
     "execution_count": 23,
     "metadata": {},
     "output_type": "execute_result"
    }
   ],
   "source": [
    "np.random.choice(new_df['customer_id'])\n"
   ]
  },
  {
   "cell_type": "code",
   "execution_count": 24,
   "id": "761d3039",
   "metadata": {},
   "outputs": [
    {
     "data": {
      "text/plain": [
       "'012e38a268e9bbe4cb8f6e4caf02bbf60b46a2da79df7887f26759aa7adb57b7'"
      ]
     },
     "execution_count": 24,
     "metadata": {},
     "output_type": "execute_result"
    }
   ],
   "source": [
    "np.random.choice(new_df['customer_id'])\n"
   ]
  }
 ],
 "metadata": {
  "kernelspec": {
   "display_name": "Python 3.9 (tensorflow)",
   "language": "python",
   "name": "tensorflow"
  },
  "language_info": {
   "codemirror_mode": {
    "name": "ipython",
    "version": 3
   },
   "file_extension": ".py",
   "mimetype": "text/x-python",
   "name": "python",
   "nbconvert_exporter": "python",
   "pygments_lexer": "ipython3",
   "version": "3.9.11"
  }
 },
 "nbformat": 4,
 "nbformat_minor": 5
}
